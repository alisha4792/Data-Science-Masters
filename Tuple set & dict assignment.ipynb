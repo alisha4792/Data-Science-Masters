{
 "cells": [
  {
   "cell_type": "code",
   "execution_count": null,
   "id": "e585c9da-ef41-4242-971c-d48f60ef72d5",
   "metadata": {},
   "outputs": [],
   "source": [
    "# Q1. What are the characteristics of the tuples? Is tuple immutable?\n",
    "1.Immutable: Once a tuple is created, its values cannot be changed. This means you cannot add, remove, or modify elements after it’s defined.\n",
    "\n",
    "2.Ordered: Tuples maintain the order of elements, meaning the order in which the items are added is preserved.\n",
    "\n",
    "3.Heterogeneous: A tuple can contain elements of different data types (e.g., integers, strings, lists, etc.).\n",
    "\n",
    "4.Indexed: Like lists, tuples are indexed starting from 0, meaning you can access individual elements using their index.\n",
    "\n",
    "5.Allow Duplicates: Tuples can have repeated values. They do not enforce uniqueness like sets.\n",
    "\n"
   ]
  },
  {
   "cell_type": "code",
   "execution_count": null,
   "id": "7aefde2f-0b40-4f57-a0ae-9e5f5ddb6e69",
   "metadata": {},
   "outputs": [],
   "source": [
    "# Q2. What are the two tuple methods in python? Give an example of each method. Give a reason why tuples have only two in-built methods as compared to Lists.\n",
    "\n",
    "Ans.The two tuple methods in Python are:\n",
    "count(): This method returns the number of occurrences of a specified element in the tuple.\n",
    "index(): This method returns the index of the first occurrence of the specified element in the tuple.\n",
    "\n"
   ]
  },
  {
   "cell_type": "code",
   "execution_count": 9,
   "id": "1272be7c-e2a1-4b80-9bad-fbf5373afc2a",
   "metadata": {},
   "outputs": [
    {
     "name": "stdout",
     "output_type": "stream",
     "text": [
      "3\n"
     ]
    }
   ],
   "source": [
    "# count method()\n",
    "my_tuple = (1, 2, 3, 2, 4, 2)\n",
    "print(my_tuple.count(2)) "
   ]
  },
  {
   "cell_type": "code",
   "execution_count": 7,
   "id": "1d25872a-5617-4ba3-b958-4f0c7cf9c956",
   "metadata": {},
   "outputs": [
    {
     "name": "stdout",
     "output_type": "stream",
     "text": [
      "2\n"
     ]
    }
   ],
   "source": [
    "# index method() \n",
    "my_tuple = (10, 20, 30, 40, 50)\n",
    "print(my_tuple.index(30))  "
   ]
  },
  {
   "cell_type": "code",
   "execution_count": null,
   "id": "a98c5a42-a5a9-4937-b248-62b2b8d35600",
   "metadata": {},
   "outputs": [],
   "source": [
    "# Q3. Which collection datatypes in python do not allow duplicate items? Write a code using a set to remove duplicates from the given list.\n",
    "List = [1, 1, 1, 2, 1, 3, 1, 4, 2, 1, 2, 2, 2, 3, 2, 4, 3, 1, 3, 2, 3, 3, 3, 4, 4, 1, 4, 2, 4, 3, 4, 4]"
   ]
  },
  {
   "cell_type": "code",
   "execution_count": 11,
   "id": "eb7975cb-1e2c-40f1-a849-5f81e81a9d2d",
   "metadata": {},
   "outputs": [
    {
     "name": "stdout",
     "output_type": "stream",
     "text": [
      "[1, 2, 3, 4]\n"
     ]
    }
   ],
   "source": [
    "# Ans(3) A set is an unordered collection data type that does not allow duplicate values. When you try to add duplicates to a set, they are automatically removed.\n",
    "# Given list with duplicates\n",
    "my_list = [1, 1, 1, 2, 1, 3, 1, 4, 2, 1, 2, 2, 2, 3, 2, 4, 3, 1, 3, 2, 3, 3, 3, 4, 4, 1, 4, 2, 4, 3, 4, 4]\n",
    "\n",
    "# Using set to remove duplicates\n",
    "unique_items = set(my_list)\n",
    "\n",
    "# Print the result\n",
    "print(list(unique_items))\n"
   ]
  },
  {
   "cell_type": "code",
   "execution_count": null,
   "id": "52e5c036-97f9-4d94-9540-1277bcf1b761",
   "metadata": {},
   "outputs": [],
   "source": [
    "# Q4. Explain the difference between the union() and update() methods for a set. Give an example of each method.\n",
    "union() Method:\n",
    "Purpose: The union() method returns a new set that contains all the unique elements from two or more sets, without modifying the original sets.\n",
    "Return Type: It returns a new set with the union of the sets.\n",
    "Syntax: set1.union(set2)\n",
    "\n",
    "update() Method:\n",
    "Purpose: The update() method adds all elements from one set (or any iterable) to another set. It modifies the original set in-place.\n",
    "Return Type: It doesn't return anything (None) because it updates the set in-place.\n",
    "Syntax: set1.update(set2)"
   ]
  },
  {
   "cell_type": "code",
   "execution_count": 13,
   "id": "7edfdf62-8852-4058-afd6-0bdc856d88d9",
   "metadata": {},
   "outputs": [
    {
     "name": "stdout",
     "output_type": "stream",
     "text": [
      "Union of set1 and set2: {1, 2, 3, 4, 5}\n"
     ]
    }
   ],
   "source": [
    "# Union method\n",
    "# Creating two sets\n",
    "set1 = {1, 2, 3}\n",
    "set2 = {3, 4, 5}\n",
    "\n",
    "# Using union() to combine sets\n",
    "result = set1.union(set2)\n",
    "\n",
    "# Printing the result\n",
    "print(\"Union of set1 and set2:\", result)\n"
   ]
  },
  {
   "cell_type": "code",
   "execution_count": 15,
   "id": "ca73738f-0f34-4306-9b6a-a3de66ae933f",
   "metadata": {},
   "outputs": [
    {
     "name": "stdout",
     "output_type": "stream",
     "text": [
      "Updated set1: {1, 2, 3, 4, 5}\n"
     ]
    }
   ],
   "source": [
    "# Update method\n",
    "# Creating two sets\n",
    "set1 = {1, 2, 3}\n",
    "set2 = {3, 4, 5}\n",
    "\n",
    "# Using update() to modify set1 by adding elements from set2\n",
    "set1.update(set2)\n",
    "\n",
    "# Printing the modified set1\n",
    "print(\"Updated set1:\", set1)\n"
   ]
  },
  {
   "cell_type": "code",
   "execution_count": null,
   "id": "7b7a149c-37f4-43bf-b0c6-c06e877da285",
   "metadata": {},
   "outputs": [],
   "source": [
    "# Q5. What is a dictionary? Give an example. Also, state whether a dictionary is ordered or unordered.\n",
    "Ans. A dictionary in Python is a built-in data structure that stores data in key-value pairs. It is mutable, meaning it can be modified after creation. Dictionaries are enclosed in curly braces {} and use colons : to separate keys and values."
   ]
  },
  {
   "cell_type": "code",
   "execution_count": 1,
   "id": "8bd44193-f651-4c4e-b48a-1a4feebe12e8",
   "metadata": {},
   "outputs": [
    {
     "name": "stdout",
     "output_type": "stream",
     "text": [
      "John\n"
     ]
    }
   ],
   "source": [
    "# Example\n",
    "student = {\n",
    "    \"name\": \"John\",\n",
    "    \"age\": 21,\n",
    "    \"course\": \"Data Science\"\n",
    "}\n",
    "print(student[\"name\"])  \n",
    "# Thus, in modern Python versions (3.7+), dictionaries are ordered."
   ]
  },
  {
   "cell_type": "code",
   "execution_count": 3,
   "id": "b3b48caf-c132-440c-bb33-9874ccd503e4",
   "metadata": {},
   "outputs": [
    {
     "name": "stdout",
     "output_type": "stream",
     "text": [
      "Data Science\n"
     ]
    }
   ],
   "source": [
    "# Q6. Can we create a nested dictionary? If so, please give an example by creating a simple one-level nested dictionary.\n",
    "student = {\n",
    "    \"name\": \"Aarushi\",\n",
    "    \"age\": 22,\n",
    "    \"course\": {\n",
    "        \"name\": \"Data Science\",\n",
    "        \"duration\": \"2 years\"\n",
    "    }\n",
    "}\n",
    "\n",
    "# Accessing nested dictionary values\n",
    "print(student[\"course\"][\"name\"])  \n"
   ]
  },
  {
   "cell_type": "code",
   "execution_count": 7,
   "id": "5da38182-c408-4d98-badd-8c3d8408790d",
   "metadata": {},
   "outputs": [
    {
     "name": "stdout",
     "output_type": "stream",
     "text": [
      "{'language': 'Python', 'course': 'Data Science Masters', 'topics': ['Python', 'Machine Learning', 'Deep Learning']}\n"
     ]
    }
   ],
   "source": [
    "# Q7. Using setdefault() method, create key named topics in the given dictionary and also add the value of the key as this list ['Python', 'Machine Learning’, 'Deep Learning']\n",
    "# dict1 = {'language' : 'Python', 'course': 'Data Science Masters'}\n",
    "dict1 = {'language' : 'Python', 'course': 'Data Science Masters'}\n",
    "dict1.setdefault(\"topics\", ['Python', 'Machine Learning', 'Deep Learning'])\n",
    "print(dict1)"
   ]
  },
  {
   "cell_type": "code",
   "execution_count": 17,
   "id": "d66f7da2-8b50-4aec-bf75-5b86735ded17",
   "metadata": {},
   "outputs": [],
   "source": [
    "# Q8. What are the three view objects in dictionaries? Use the three in-built methods in python to display these three view objects for the given dictionary.\n",
    "# dict1 = {'Sport': 'Cricket' , 'Teams': ['India', 'Australia', 'England', 'South Africa', 'Sri Lanka', 'New Zealand']}\n",
    "Ans. 1.dict.keys() – Keys View\n",
    "Returns a view object that displays all the keys in the dictionary.\n",
    "2.dict.values() – Values View\n",
    "Returns a view object containing all the values in the dictionary.\n",
    "3.dict.items() – Items View\n",
    "Returns a view object with key-value pairs as tuples inside a list-like structure."
   ]
  },
  {
   "cell_type": "code",
   "execution_count": 15,
   "id": "52360468-81e4-48ce-85b5-1eade1951ef3",
   "metadata": {},
   "outputs": [
    {
     "name": "stdout",
     "output_type": "stream",
     "text": [
      "dict_keys(['Sport', 'Teams'])\n",
      "dict_values(['Cricket', ['India', 'Australia', 'England', 'South Africa', 'Sri Lanka', 'New Zealand']])\n",
      "dict_items([('Sport', 'Cricket'), ('Teams', ['India', 'Australia', 'England', 'South Africa', 'Sri Lanka', 'New Zealand'])])\n"
     ]
    }
   ],
   "source": [
    "dict1 = {'Sport': 'Cricket' , 'Teams': ['India', 'Australia', 'England', 'South Africa', 'Sri Lanka', 'New Zealand']}\n",
    "keys_view = dict1.keys()\n",
    "print(keys_view)\n",
    "values_view = dict1.values()\n",
    "print(values_view)\n",
    "items_view = dict1.items()\n",
    "print(items_view) "
   ]
  },
  {
   "cell_type": "code",
   "execution_count": null,
   "id": "248fd68e-469d-4072-a817-3d8bf880d0a9",
   "metadata": {},
   "outputs": [],
   "source": []
  }
 ],
 "metadata": {
  "kernelspec": {
   "display_name": "Python 3 (ipykernel)",
   "language": "python",
   "name": "python3"
  },
  "language_info": {
   "codemirror_mode": {
    "name": "ipython",
    "version": 3
   },
   "file_extension": ".py",
   "mimetype": "text/x-python",
   "name": "python",
   "nbconvert_exporter": "python",
   "pygments_lexer": "ipython3",
   "version": "3.12.4"
  }
 },
 "nbformat": 4,
 "nbformat_minor": 5
}
