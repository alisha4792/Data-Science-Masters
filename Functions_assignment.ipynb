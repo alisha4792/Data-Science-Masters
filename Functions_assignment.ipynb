{
 "cells": [
  {
   "cell_type": "code",
   "execution_count": 101,
   "id": "638fbc9c-86ff-4bea-af0c-02229d5dcfba",
   "metadata": {},
   "outputs": [
    {
     "name": "stdout",
     "output_type": "stream",
     "text": [
      "[1, 3, 5, 7, 9, 11, 13, 15, 17, 19, 21, 23]\n"
     ]
    }
   ],
   "source": [
    "#Q1. Which keyword is used to create a function? Create a function to return a list of odd numbers in the range of 1 to 25.\n",
    "#Ans. The keyword used to create a function in Python is def\n",
    "def odd(a,b):\n",
    "    n=[]\n",
    "    for i in range(a,b):\n",
    "        if i%2 != 0:\n",
    "            n.append(i)\n",
    "    return n\n",
    "print(odd(1,25))  "
   ]
  },
  {
   "cell_type": "code",
   "execution_count": 105,
   "id": "c25bfc90-78f1-4635-85b8-38e598c19024",
   "metadata": {},
   "outputs": [
    {
     "name": "stdout",
     "output_type": "stream",
     "text": [
      "(2, 3, 4, 'AARU', [1, 2, 3, 4, 5])\n",
      "{'a': 1, 'b': 2, 'c': 'AARU', 'd': [8, 9, 6, 5]}\n"
     ]
    }
   ],
   "source": [
    "#Q2. Why *args and **kwargs is used in some functions? Create a function each for *args and **kwargs to demonstrate their use.\n",
    "#*args:Used to pass a variable number of positional arguments to a function & allows the function to accept any number of arguments (as a tuple).\n",
    "#**kwargs:Used to pass a variable number of keyword arguments (i.e., named arguments) to a function and It allows the function to accept any number of keyword arguments (as a dictionary).\n",
    "def test(*args):\n",
    "    return args\n",
    "print(test(2,3,4,\"AARU\",[1,2,3,4,5]))\n",
    "\n",
    "def test1(**kwargs):\n",
    "    return kwargs\n",
    "print(test1(a=1,b=2,c=\"AARU\",d=[8,9,6,5]))"
   ]
  },
  {
   "cell_type": "code",
   "execution_count": 119,
   "id": "06181223-e481-41ee-b173-9c4b30d0086d",
   "metadata": {},
   "outputs": [
    {
     "name": "stdout",
     "output_type": "stream",
     "text": [
      "2\n",
      "4\n",
      "6\n",
      "8\n",
      "10\n"
     ]
    }
   ],
   "source": [
    "#Q3. What is an iterator in python? Name the method used to initialise the iterator object and the method used for iteration. Use these methods to print the first five elements of the given list [2, 4, 6, 8, 10, 12, 14, 16, 18, 20].\n",
    "# Ans. An iterator in Python is an object that allows us to traverse through elements of a collection (like lists, tuples, etc.) one at a time without needing to know the underlying structure.\n",
    "numbers = [2, 4, 6, 8, 10, 12, 14, 16, 18, 20]\n",
    "iterator = iter(numbers)\n",
    "\n",
    "for _ in range(5): \n",
    "    print(next(iterator)) "
   ]
  },
  {
   "cell_type": "code",
   "execution_count": 123,
   "id": "afd30998-e40d-4754-8449-7f0917eb26ac",
   "metadata": {},
   "outputs": [
    {
     "name": "stdout",
     "output_type": "stream",
     "text": [
      "2\n",
      "4\n",
      "6\n",
      "8\n",
      "10\n"
     ]
    }
   ],
   "source": [
    "#Q4. What is a generator function in python? Why yield keyword is used? Give an example of a generator function.\n",
    "#Ans.A generator function in Python is a special type of function that returns an iterator but does not store all the values in memory at once. Instead, it yields values one by one as needed, making it memory efficient.\n",
    "# The yield keyword pauses the function and returns a value, but it remembers its state for the next call.Unlike return, which ends the function, yield allows the function to resume from where it left off.\n",
    "def even_numbers(n):\n",
    "    for i in range(2, n+1, 2):  \n",
    "        yield i  \n",
    "\n",
    "gen = even_numbers(10)  \n",
    "\n",
    "for num in gen:\n",
    "    print(num)\n"
   ]
  },
  {
   "cell_type": "code",
   "execution_count": 125,
   "id": "a3753836-9c0d-48be-b346-414da9ea80d2",
   "metadata": {},
   "outputs": [
    {
     "name": "stdout",
     "output_type": "stream",
     "text": [
      "2\n",
      "3\n",
      "5\n",
      "7\n",
      "11\n",
      "13\n",
      "17\n",
      "19\n",
      "23\n",
      "29\n",
      "31\n",
      "37\n",
      "41\n",
      "43\n",
      "47\n",
      "53\n",
      "59\n",
      "61\n",
      "67\n",
      "71\n"
     ]
    }
   ],
   "source": [
    "#Q5. Create a generator function for prime numbers less than 1000. Use the next() method to print the first 20 prime numbers.\n",
    "\n",
    "def prime_generator():\n",
    "    for num in range(2, 1000):  \n",
    "        is_prime = True\n",
    "        for i in range(2, int(num ** 0.5) + 1): \n",
    "            if num % i == 0:\n",
    "                is_prime = False\n",
    "                break  \n",
    "        if is_prime:\n",
    "            yield num \n",
    "\n",
    "primes = prime_generator()\n",
    "\n",
    "for _ in range(20):\n",
    "    print(next(primes))\n"
   ]
  },
  {
   "cell_type": "code",
   "execution_count": null,
   "id": "6dc00941-272a-40a7-b422-aa6d8a917cf7",
   "metadata": {},
   "outputs": [],
   "source": []
  }
 ],
 "metadata": {
  "kernelspec": {
   "display_name": "Python 3 (ipykernel)",
   "language": "python",
   "name": "python3"
  },
  "language_info": {
   "codemirror_mode": {
    "name": "ipython",
    "version": 3
   },
   "file_extension": ".py",
   "mimetype": "text/x-python",
   "name": "python",
   "nbconvert_exporter": "python",
   "pygments_lexer": "ipython3",
   "version": "3.12.4"
  }
 },
 "nbformat": 4,
 "nbformat_minor": 5
}
